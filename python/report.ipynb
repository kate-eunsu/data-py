{
 "cells": [
  {
   "cell_type": "code",
   "execution_count": 1,
   "metadata": {},
   "outputs": [
    {
     "name": "stderr",
     "output_type": "stream",
     "text": [
      "/Users/devd/Library/Python/3.9/lib/python/site-packages/urllib3/__init__.py:35: NotOpenSSLWarning: urllib3 v2 only supports OpenSSL 1.1.1+, currently the 'ssl' module is compiled with 'LibreSSL 2.8.3'. See: https://github.com/urllib3/urllib3/issues/3020\n",
      "  warnings.warn(\n"
     ]
    }
   ],
   "source": [
    "import requests\n",
    "import json\n",
    "\n",
    "# API URL\n",
    "url = \"https://business.juso.go.kr/addrlink/addrLinkApiJsonp.do\"\n",
    "\n",
    "# 요청 파라미터\n",
    "params = {\n",
    "    'confmKey': 'U01TX0FVVEgyMDI0MDYyMTE2MjQyNTExNDg2MDA=',        # 여기에 실제 confmKey를 입력하세요\n",
    "    'currentPage':1,\n",
    "    'countPerPage':10,\n",
    "    'keyword':'지봉로 85-14',\n",
    "    'resultType': 'json',               # 결과 형식 (json 또는 xml)\n",
    "}\n",
    "\n",
    "response = requests.get(url, params=params)\n",
    "json_str = response.text[1:-1]\n",
    "building = json.loads(json_str)['results']['juso'][0]\n"
   ]
  },
  {
   "cell_type": "code",
   "execution_count": 2,
   "metadata": {},
   "outputs": [
    {
     "data": {
      "text/plain": [
       "{'detBdNmList': '주건축물제1동',\n",
       " 'engAddr': '85-14 Jibong-ro, Jongno-gu, Seoul',\n",
       " 'rn': '지봉로',\n",
       " 'emdNm': '창신동',\n",
       " 'zipNo': '03095',\n",
       " 'roadAddrPart2': ' (창신동)',\n",
       " 'emdNo': '01',\n",
       " 'sggNm': '종로구',\n",
       " 'jibunAddr': '서울특별시 종로구 창신동 23-77 메종드 뤼미에르',\n",
       " 'siNm': '서울특별시',\n",
       " 'roadAddrPart1': '서울특별시 종로구 지봉로 85-14',\n",
       " 'bdNm': '메종드 뤼미에르',\n",
       " 'admCd': '1111017400',\n",
       " 'udrtYn': '0',\n",
       " 'lnbrMnnm': '23',\n",
       " 'roadAddr': '서울특별시 종로구 지봉로 85-14 (창신동)',\n",
       " 'lnbrSlno': '77',\n",
       " 'buldMnnm': '85',\n",
       " 'bdKdcd': '0',\n",
       " 'liNm': '',\n",
       " 'rnMgtSn': '111103005007',\n",
       " 'mtYn': '0',\n",
       " 'bdMgtSn': '1111017400100230077003331',\n",
       " 'buldSlno': '14'}"
      ]
     },
     "execution_count": 2,
     "metadata": {},
     "output_type": "execute_result"
    }
   ],
   "source": [
    "building"
   ]
  },
  {
   "cell_type": "code",
   "execution_count": 3,
   "metadata": {},
   "outputs": [
    {
     "data": {
      "text/plain": [
       "'0085'"
      ]
     },
     "execution_count": 3,
     "metadata": {},
     "output_type": "execute_result"
    }
   ],
   "source": [
    "str(building['buldMnnm']).zfill(4)"
   ]
  },
  {
   "cell_type": "code",
   "execution_count": 4,
   "metadata": {},
   "outputs": [
    {
     "data": {
      "text/plain": [
       "'0014'"
      ]
     },
     "execution_count": 4,
     "metadata": {},
     "output_type": "execute_result"
    }
   ],
   "source": [
    "str(building['buldSlno']).zfill(4)"
   ]
  },
  {
   "cell_type": "code",
   "execution_count": 5,
   "metadata": {},
   "outputs": [],
   "source": [
    "\n",
    "# API URL\n",
    "url = \"http://apis.data.go.kr/1613000/BldRgstService_v2/getBrTitleInfo\"\n",
    "serviceKey= 'ZuR/pcXAnrsfKC4J/YorD1ziQ3tV48S/e9fkNj822kvUABadm+CMurpc9RAu14UXcaj7AaRkhHRHiKie/4/NiQ=='\n",
    "\n",
    "params = {\n",
    "    'serviceKey': 'ZuR/pcXAnrsfKC4J/YorD1ziQ3tV48S/e9fkNj822kvUABadm+CMurpc9RAu14UXcaj7AaRkhHRHiKie/4/NiQ==',\n",
    "            # 결과 형식 (json 또는 xml)\n",
    "    \"sigunguCd\":building['admCd'][:5],\n",
    "    \"bjdongCd\":building['admCd'][5:],\n",
    "    \"platGbCd\":\"2\",\n",
    "    \"bun\":str(building['buldMnnm']).zfill(4),\n",
    "    \"ji\":str(building['buldSlno']).zfill(4),\n",
    "    \"startDate\":\"\",\n",
    "    \"endDate\":\"\",\n",
    "    \"numOfRows\":\"10\",\n",
    "    \"pageN\":\"1\",\n",
    "}\n",
    "\n",
    "response = requests.get(url, params=params)\n"
   ]
  },
  {
   "cell_type": "code",
   "execution_count": 6,
   "metadata": {},
   "outputs": [
    {
     "data": {
      "text/plain": [
       "<Response [200]>"
      ]
     },
     "execution_count": 6,
     "metadata": {},
     "output_type": "execute_result"
    }
   ],
   "source": [
    "response"
   ]
  },
  {
   "cell_type": "code",
   "execution_count": 7,
   "metadata": {},
   "outputs": [
    {
     "name": "stdout",
     "output_type": "stream",
     "text": [
      "Result Code: 00\n",
      "Result Message: NORMAL SERVICE.\n",
      "Number of Rows: 10\n",
      "Page Number: 1\n",
      "Total Count: 0\n"
     ]
    }
   ],
   "source": [
    "import xml.etree.ElementTree as ET\n",
    "\n",
    "# 주어진 XML 데이터\n",
    "data = response.content\n",
    "\n",
    "# XML 데이터 파싱\n",
    "root = ET.fromstring(data)\n",
    "\n",
    "# XML 데이터에서 필요한 정보 추출\n",
    "result_code = root.find('.//resultCode').text\n",
    "result_msg = root.find('.//resultMsg').text\n",
    "num_of_rows = root.find('.//numOfRows').text\n",
    "page_no = root.find('.//pageNo').text\n",
    "total_count = root.find('.//totalCount').text\n",
    "\n",
    "# 추출한 정보 출력\n",
    "print(\"Result Code:\", result_code)\n",
    "print(\"Result Message:\", result_msg)\n",
    "print(\"Number of Rows:\", num_of_rows)\n",
    "print(\"Page Number:\", page_no)\n",
    "print(\"Total Count:\", total_count)\n"
   ]
  },
  {
   "cell_type": "code",
   "execution_count": 8,
   "metadata": {},
   "outputs": [
    {
     "name": "stdout",
     "output_type": "stream",
     "text": [
      "b'<?xml version=\"1.0\" encoding=\"UTF-8\" standalone=\"yes\"?><response><header><resultCode>00</resultCode><resultMsg>NORMAL SERVICE.</resultMsg></header><body><items><item><archArea>21.42</archArea><atchBldArea>0</atchBldArea><atchBldCnt>0</atchBldCnt><bcRat>0</bcRat><bjdongCd>10300</bjdongCd><bldNm>\\xeb\\x8c\\x80\\xec\\xb9\\x98\\xeb\\x8b\\xa8\\xec\\xa7\\x80</bldNm><block> </block><bun>0012</bun><bylotCnt>0</bylotCnt><crtnDay>20190109</crtnDay><dongNm>\\xed\\x86\\xb5\\xed\\x95\\xa9\\xea\\xb2\\xbd\\xeb\\xb9\\x84\\xec\\x8b\\xa4-3</dongNm><emgenUseElvtCnt>0</emgenUseElvtCnt><engrEpi>0</engrEpi><engrGrade> </engrGrade><engrRat>0</engrRat><etcPurps>\\xed\\x86\\xb5\\xed\\x95\\xa9\\xea\\xb2\\xbd\\xeb\\xb9\\x84\\xec\\x8b\\xa4</etcPurps><etcRoof>(\\xec\\xb2\\xa0\\xea\\xb7\\xbc)\\xec\\xbd\\x98\\xed\\x81\\xac\\xeb\\xa6\\xac\\xed\\x8a\\xb8</etcRoof><etcStrct>\\xec\\xb2\\xa0\\xea\\xb7\\xbc\\xec\\xbd\\x98\\xed\\x81\\xac\\xeb\\xa6\\xac\\xed\\x8a\\xb8\\xea\\xb5\\xac\\xec\\xa1\\xb0</etcStrct><fmlyCnt>0</fmlyCnt><gnBldCert>0</gnBldCert><gnBldGrade> </gnBldGrade><grndFlrCnt>1</grndFlrCnt><heit>3</heit><hhldCnt>0</hhldCnt><hoCnt>0</hoCnt><indrAutoArea>0</indrAutoArea><indrAutoUtcnt>0</indrAutoUtcnt><indrMechArea>0</indrMechArea><indrMechUtcnt>0</indrMechUtcnt><itgBldCert>0</itgBldCert><itgBldGrade> </itgBldGrade><ji>0000</ji><lot> </lot><mainAtchGbCd>1</mainAtchGbCd><mainAtchGbCdNm>\\xeb\\xb6\\x80\\xec\\x86\\x8d\\xea\\xb1\\xb4\\xec\\xb6\\x95\\xeb\\xac\\xbc</mainAtchGbCdNm><mainPurpsCd>02000</mainPurpsCd><mainPurpsCdNm>\\xea\\xb3\\xb5\\xeb\\x8f\\x99\\xec\\xa3\\xbc\\xed\\x83\\x9d</mainPurpsCdNm><mgmBldrgstPk>11680-100207250</mgmBldrgstPk><naBjdongCd> </naBjdongCd><naMainBun>0.0</naMainBun><naRoadCd> </naRoadCd><naSubBun>0.0</naSubBun><naUgrndCd>0</naUgrndCd><newPlatPlc> </newPlatPlc><oudrAutoArea>0</oudrAutoArea><oudrAutoUtcnt>0</oudrAutoUtcnt><oudrMechArea>0</oudrMechArea><oudrMechUtcnt>0</oudrMechUtcnt><platArea>0</platArea><platGbCd>0</platGbCd><platPlc>\\xec\\x84\\x9c\\xec\\x9a\\xb8\\xed\\x8a\\xb9\\xeb\\xb3\\x84\\xec\\x8b\\x9c \\xea\\xb0\\x95\\xeb\\x82\\xa8\\xea\\xb5\\xac \\xea\\xb0\\x9c\\xed\\x8f\\xac\\xeb\\x8f\\x99 12\\xeb\\xb2\\x88\\xec\\xa7\\x80</platPlc><pmsDay>20100530</pmsDay><pmsnoGbCd>2222</pmsnoGbCd><pmsnoGbCdNm>\\xed\\x96\\x89\\xec\\x9c\\x84\\xed\\x97\\x88\\xea\\xb0\\x80(\\xec\\xa6\\x9d\\xec\\xb6\\x95)</pmsnoGbCdNm><pmsnoKikCd>3220086</pmsnoKikCd><pmsnoKikCdNm>\\xec\\xa3\\xbc\\xed\\x83\\x9d\\xea\\xb3\\xbc</pmsnoKikCdNm><pmsnoYear>2010</pmsnoYear><regstrGbCd>2</regstrGbCd><regstrGbCdNm>\\xec\\xa7\\x91\\xed\\x95\\xa9</regstrGbCdNm><regstrKindCd>3</regstrKindCd><regstrKindCdNm>\\xed\\x91\\x9c\\xec\\xa0\\x9c\\xeb\\xb6\\x80</regstrKindCdNm><rideUseElvtCnt>0</rideUseElvtCnt><rnum>1</rnum><roofCd>10</roofCd><roofCdNm>(\\xec\\xb2\\xa0\\xea\\xb7\\xbc)\\xec\\xbd\\x98\\xed\\x81\\xac\\xeb\\xa6\\xac\\xed\\x8a\\xb8</roofCdNm><rserthqkAblty> </rserthqkAblty><rserthqkDsgnApplyYn>0</rserthqkDsgnApplyYn><sigunguCd>11680</sigunguCd><splotNm> </splotNm><stcnsDay> </stcnsDay><strctCd>21</strctCd><strctCdNm>\\xec\\xb2\\xa0\\xea\\xb7\\xbc\\xec\\xbd\\x98\\xed\\x81\\xac\\xeb\\xa6\\xac\\xed\\x8a\\xb8\\xea\\xb5\\xac\\xec\\xa1\\xb0</strctCdNm><totArea>21.42</totArea><totDongTotArea>21.42</totDongTotArea><ugrndFlrCnt>0</ugrndFlrCnt><useAprDay>20110902</useAprDay><vlRat>0</vlRat><vlRatEstmTotArea>21.42</vlRatEstmTotArea></item><item><archArea>618</archArea><atchBldArea>0</atchBldArea><atchBldCnt>0</atchBldCnt><bcRat>0</bcRat><bjdongCd>10300</bjdongCd><bldNm>\\xeb\\x8c\\x80\\xec\\xb9\\x98\\xec\\x95\\x84\\xed\\x8c\\x8c\\xed\\x8a\\xb8103\\xeb\\x8f\\x99</bldNm><block> </block><bun>0012</bun><bylotCnt>0</bylotCnt><crtnDay>20190530</crtnDay><dongNm>103</dongNm><emgenUseElvtCnt>0</emgenUseElvtCnt><engrEpi>0</engrEpi><engrGrade> </engrGrade><engrRat>0</engrRat><etcPurps>\\xec\\x95\\x84\\xed\\x8c\\x8c\\xed\\x8a\\xb8</etcPurps><etcRoof>\\xec\\x8a\\xac\\xeb\\x9d\\xbc\\xeb\\xb8\\x8c</etcRoof><etcStrct>\\xec\\xb2\\xa0\\xea\\xb7\\xbc\\xec\\xbd\\x98\\xed\\x81\\xac\\xeb\\xa6\\xac\\xed\\x8a\\xb8\\xec\\xa1\\xb0</etcStrct><fmlyCnt>0</fmlyCnt><gnBldCert>0</gnBldCert><gnBldGrade> </gnBldGrade><grndFlrCnt>15</grndFlrCnt><heit>0</heit><hhldCnt>262</hhldCnt><hoCnt>0</hoCnt><indrAutoArea>0</indrAutoArea><indrAutoUtcnt>0</indrAutoUtcnt><indrMechArea>0</indrMechArea><indrMechUtcnt>0</indrMechUtcnt><itgBldCert>0</itgBldCert><itgBldGrade> </itgBldGrade><ji>0000</ji><lot> </lot><mainAtchGbCd>0</mainAtchGbCd><mainAtchGbCdNm>\\xec\\xa3\\xbc\\xea\\xb1\\xb4\\xec\\xb6\\x95\\xeb\\xac\\xbc</mainAtchGbCdNm><mainPurpsCd>02000</mainPurpsCd><mainPurpsCdNm>\\xea\\xb3\\xb5\\xeb\\x8f\\x99\\xec\\xa3\\xbc\\xed\\x83\\x9d</mainPurpsCdNm><mgmBldrgstPk>11680-930</mgmBldrgstPk><naBjdongCd>10301</naBjdongCd><naMainBun>5.0</naMainBun><naRoadCd>116804166040</naRoadCd><naSubBun>0.0</naSubBun><naUgrndCd>0</naUgrndCd><newPlatPlc> \\xec\\x84\\x9c\\xec\\x9a\\xb8\\xed\\x8a\\xb9\\xeb\\xb3\\x84\\xec\\x8b\\x9c \\xea\\xb0\\x95\\xeb\\x82\\xa8\\xea\\xb5\\xac \\xea\\xb0\\x9c\\xed\\x8f\\xac\\xeb\\xa1\\x9c109\\xea\\xb8\\xb8 5</newPlatPlc><oudrAutoArea>0</oudrAutoArea><oudrAutoUtcnt>0</oudrAutoUtcnt><oudrMechArea>0</oudrMechArea><oudrMechUtcnt>0</oudrMechUtcnt><platArea>0</platArea><platGbCd>0</platGbCd><platPlc>\\xec\\x84\\x9c\\xec\\x9a\\xb8\\xed\\x8a\\xb9\\xeb\\xb3\\x84\\xec\\x8b\\x9c \\xea\\xb0\\x95\\xeb\\x82\\xa8\\xea\\xb5\\xac \\xea\\xb0\\x9c\\xed\\x8f\\xac\\xeb\\x8f\\x99 12\\xeb\\xb2\\x88\\xec\\xa7\\x80</platPlc><pmsDay>19891226</pmsDay><pmsnoGbCd> </pmsnoGbCd><pmsnoGbCdNm> </pmsnoGbCdNm><pmsnoKikCd> </pmsnoKikCd><pmsnoKikCdNm> </pmsnoKikCdNm><pmsnoYear> </pmsnoYear><regstrGbCd>2</regstrGbCd><regstrGbCdNm>\\xec\\xa7\\x91\\xed\\x95\\xa9</regstrGbCdNm><regstrKindCd>3</regstrKindCd><regstrKindCdNm>\\xed\\x91\\x9c\\xec\\xa0\\x9c\\xeb\\xb6\\x80</regstrKindCdNm><rideUseElvtCnt>0</rideUseElvtCnt><rnum>2</rnum><roofCd>10</roofCd><roofCdNm>(\\xec\\xb2\\xa0\\xea\\xb7\\xbc)\\xec\\xbd\\x98\\xed\\x81\\xac\\xeb\\xa6\\xac\\xed\\x8a\\xb8</roofCdNm><rserthqkAblty> </rserthqkAblty><rserthqkDsgnApplyYn>1</rserthqkDsgnApplyYn><sigunguCd>11680</sigunguCd><splotNm> </splotNm><stcnsDay> </stcnsDay><strctCd>21</strctCd><strctCdNm>\\xec\\xb2\\xa0\\xea\\xb7\\xbc\\xec\\xbd\\x98\\xed\\x81\\xac\\xeb\\xa6\\xac\\xed\\x8a\\xb8\\xea\\xb5\\xac\\xec\\xa1\\xb0</strctCdNm><totArea>9680.61</totArea><totDongTotArea>9680.61</totDongTotArea><ugrndFlrCnt>1</ugrndFlrCnt><useAprDay>19911120</useAprDay><vlRat>0</vlRat><vlRatEstmTotArea>9148.88</vlRatEstmTotArea></item><item><archArea>609.56</archArea><atchBldArea>0</atchBldArea><atchBldCnt>0</atchBldCnt><bcRat>0</bcRat><bjdongCd>10300</bjdongCd><bldNm>\\xeb\\x8c\\x80\\xec\\xb9\\x98\\xec\\x95\\x84\\xed\\x8c\\x8c\\xed\\x8a\\xb8106\\xeb\\x8f\\x99</bldNm><block> </block><bun>0012</bun><bylotCnt>0</bylotCnt><crtnDay>20190530</crtnDay><dongNm>106</dongNm><emgenUseElvtCnt>0</emgenUseElvtCnt><engrEpi>0</engrEpi><engrGrade> </engrGrade><engrRat>0</engrRat><etcPurps>\\xec\\x95\\x84\\xed\\x8c\\x8c\\xed\\x8a\\xb8</etcPurps><etcRoof>\\xec\\x8a\\xac\\xeb\\x9d\\xbc\\xeb\\xb8\\x8c</etcRoof><etcStrct>\\xec\\xb2\\xa0\\xea\\xb7\\xbc\\xec\\xbd\\x98\\xed\\x81\\xac\\xeb\\xa6\\xac\\xed\\x8a\\xb8\\xec\\xa1\\xb0</etcStrct><fmlyCnt>0</fmlyCnt><gnBldCert>0</gnBldCert><gnBldGrade> </gnBldGrade><grndFlrCnt>15</grndFlrCnt><heit>0</heit><hhldCnt>263</hhldCnt><hoCnt>0</hoCnt><indrAutoArea>0</indrAutoArea><indrAutoUtcnt>0</indrAutoUtcnt><indrMechArea>0</indrMechArea><indrMechUtcnt>0</indrMechUtcnt><itgBldCert>0</itgBldCert><itgBldGrade> </itgBldGrade><ji>0000</ji><lot> </lot><mainAtchGbCd>0</mainAtchGbCd><mainAtchGbCdNm>\\xec\\xa3\\xbc\\xea\\xb1\\xb4\\xec\\xb6\\x95\\xeb\\xac\\xbc</mainAtchGbCdNm><mainPurpsCd>02000</mainPurpsCd><mainPurpsCdNm>\\xea\\xb3\\xb5\\xeb\\x8f\\x99\\xec\\xa3\\xbc\\xed\\x83\\x9d</mainPurpsCdNm><mgmBldrgstPk>11680-924</mgmBldrgstPk><naBjdongCd>10301</naBjdongCd><naMainBun>5.0</naMainBun><naRoadCd>116804166040</naRoadCd><naSubBun>0.0</naSubBun><naUgrndCd>0</naUgrndCd><newPlatPlc> \\xec\\x84\\x9c\\xec\\x9a\\xb8\\xed\\x8a\\xb9\\xeb\\xb3\\x84\\xec\\x8b\\x9c \\xea\\xb0\\x95\\xeb\\x82\\xa8\\xea\\xb5\\xac \\xea\\xb0\\x9c\\xed\\x8f\\xac\\xeb\\xa1\\x9c109\\xea\\xb8\\xb8 5</newPlatPlc><oudrAutoArea>0</oudrAutoArea><oudrAutoUtcnt>0</oudrAutoUtcnt><oudrMechArea>0</oudrMechArea><oudrMechUtcnt>0</oudrMechUtcnt><platArea>0</platArea><platGbCd>0</platGbCd><platPlc>\\xec\\x84\\x9c\\xec\\x9a\\xb8\\xed\\x8a\\xb9\\xeb\\xb3\\x84\\xec\\x8b\\x9c \\xea\\xb0\\x95\\xeb\\x82\\xa8\\xea\\xb5\\xac \\xea\\xb0\\x9c\\xed\\x8f\\xac\\xeb\\x8f\\x99 12\\xeb\\xb2\\x88\\xec\\xa7\\x80</platPlc><pmsDay>19891226</pmsDay><pmsnoGbCd> </pmsnoGbCd><pmsnoGbCdNm> </pmsnoGbCdNm><pmsnoKikCd> </pmsnoKikCd><pmsnoKikCdNm> </pmsnoKikCdNm><pmsnoYear> </pmsnoYear><regstrGbCd>2</regstrGbCd><regstrGbCdNm>\\xec\\xa7\\x91\\xed\\x95\\xa9</regstrGbCdNm><regstrKindCd>3</regstrKindCd><regstrKindCdNm>\\xed\\x91\\x9c\\xec\\xa0\\x9c\\xeb\\xb6\\x80</regstrKindCdNm><rideUseElvtCnt>0</rideUseElvtCnt><rnum>3</rnum><roofCd>10</roofCd><roofCdNm>(\\xec\\xb2\\xa0\\xea\\xb7\\xbc)\\xec\\xbd\\x98\\xed\\x81\\xac\\xeb\\xa6\\xac\\xed\\x8a\\xb8</roofCdNm><rserthqkAblty> </rserthqkAblty><rserthqkDsgnApplyYn>1</rserthqkDsgnApplyYn><sigunguCd>11680</sigunguCd><splotNm> </splotNm><stcnsDay> </stcnsDay><strctCd>21</strctCd><strctCdNm>\\xec\\xb2\\xa0\\xea\\xb7\\xbc\\xec\\xbd\\x98\\xed\\x81\\xac\\xeb\\xa6\\xac\\xed\\x8a\\xb8\\xea\\xb5\\xac\\xec\\xa1\\xb0</strctCdNm><totArea>9572.66</totArea><totDongTotArea>9572.66</totDongTotArea><ugrndFlrCnt>1</ugrndFlrCnt><useAprDay>19911120</useAprDay><vlRat>0</vlRat><vlRatEstmTotArea>9022.28</vlRatEstmTotArea></item><item><archArea>417.43</archArea><atchBldArea>0</atchBldArea><atchBldCnt>0</atchBldCnt><bcRat>0</bcRat><bjdongCd>10300</bjdongCd><bldNm>\\xeb\\x8c\\x80\\xec\\xb9\\x98\\xec\\x95\\x84\\xed\\x8c\\x8c\\xed\\x8a\\xb8104\\xeb\\x8f\\x99</bldNm><block> </block><bun>0012</bun><bylotCnt>0</bylotCnt><crtnDay>20190530</crtnDay><dongNm>104</dongNm><emgenUseElvtCnt>0</emgenUseElvtCnt><engrEpi>0</engrEpi><engrGrade> </engrGrade><engrRat>0</engrRat><etcPurps>\\xec\\x95\\x84\\xed\\x8c\\x8c\\xed\\x8a\\xb8</etcPurps><etcRoof>\\xec\\x8a\\xac\\xeb\\x9d\\xbc\\xeb\\xb8\\x8c</etcRoof><etcStrct>\\xec\\xb2\\xa0\\xea\\xb7\\xbc\\xec\\xbd\\x98\\xed\\x81\\xac\\xeb\\xa6\\xac\\xed\\x8a\\xb8\\xec\\xa1\\xb0</etcStrct><fmlyCnt>0</fmlyCnt><gnBldCert>0</gnBldCert><gnBldGrade> </gnBldGrade><grndFlrCnt>15</grndFlrCnt><heit>0</heit><hhldCnt>116</hhldCnt><hoCnt>0</hoCnt><indrAutoArea>0</indrAutoArea><indrAutoUtcnt>0</indrAutoUtcnt><indrMechArea>0</indrMechArea><indrMechUtcnt>0</indrMechUtcnt><itgBldCert>0</itgBldCert><itgBldGrade> </itgBldGrade><ji>0000</ji><lot> </lot><mainAtchGbCd>0</mainAtchGbCd><mainAtchGbCdNm>\\xec\\xa3\\xbc\\xea\\xb1\\xb4\\xec\\xb6\\x95\\xeb\\xac\\xbc</mainAtchGbCdNm><mainPurpsCd>02000</mainPurpsCd><mainPurpsCdNm>\\xea\\xb3\\xb5\\xeb\\x8f\\x99\\xec\\xa3\\xbc\\xed\\x83\\x9d</mainPurpsCdNm><mgmBldrgstPk>11680-934</mgmBldrgstPk><naBjdongCd>10301</naBjdongCd><naMainBun>5.0</naMainBun><naRoadCd>116804166040</naRoadCd><naSubBun>0.0</naSubBun><naUgrndCd>0</naUgrndCd><newPlatPlc> \\xec\\x84\\x9c\\xec\\x9a\\xb8\\xed\\x8a\\xb9\\xeb\\xb3\\x84\\xec\\x8b\\x9c \\xea\\xb0\\x95\\xeb\\x82\\xa8\\xea\\xb5\\xac \\xea\\xb0\\x9c\\xed\\x8f\\xac\\xeb\\xa1\\x9c109\\xea\\xb8\\xb8 5</newPlatPlc><oudrAutoArea>0</oudrAutoArea><oudrAutoUtcnt>0</oudrAutoUtcnt><oudrMechArea>0</oudrMechArea><oudrMechUtcnt>0</oudrMechUtcnt><platArea>0</platArea><platGbCd>0</platGbCd><platPlc>\\xec\\x84\\x9c\\xec\\x9a\\xb8\\xed\\x8a\\xb9\\xeb\\xb3\\x84\\xec\\x8b\\x9c \\xea\\xb0\\x95\\xeb\\x82\\xa8\\xea\\xb5\\xac \\xea\\xb0\\x9c\\xed\\x8f\\xac\\xeb\\x8f\\x99 12\\xeb\\xb2\\x88\\xec\\xa7\\x80</platPlc><pmsDay>19891226</pmsDay><pmsnoGbCd> </pmsnoGbCd><pmsnoGbCdNm> </pmsnoGbCdNm><pmsnoKikCd> </pmsnoKikCd><pmsnoKikCdNm> </pmsnoKikCdNm><pmsnoYear> </pmsnoYear><regstrGbCd>2</regstrGbCd><regstrGbCdNm>\\xec\\xa7\\x91\\xed\\x95\\xa9</regstrGbCdNm><regstrKindCd>3</regstrKindCd><regstrKindCdNm>\\xed\\x91\\x9c\\xec\\xa0\\x9c\\xeb\\xb6\\x80</regstrKindCdNm><rideUseElvtCnt>0</rideUseElvtCnt><rnum>4</rnum><roofCd>10</roofCd><roofCdNm>(\\xec\\xb2\\xa0\\xea\\xb7\\xbc)\\xec\\xbd\\x98\\xed\\x81\\xac\\xeb\\xa6\\xac\\xed\\x8a\\xb8</roofCdNm><rserthqkAblty> </rserthqkAblty><rserthqkDsgnApplyYn>1</rserthqkDsgnApplyYn><sigunguCd>11680</sigunguCd><splotNm> </splotNm><stcnsDay> </stcnsDay><strctCd>21</strctCd><strctCdNm>\\xec\\xb2\\xa0\\xea\\xb7\\xbc\\xec\\xbd\\x98\\xed\\x81\\xac\\xeb\\xa6\\xac\\xed\\x8a\\xb8\\xea\\xb5\\xac\\xec\\xa1\\xb0</strctCdNm><totArea>6471.45</totArea><totDongTotArea>6471.45</totDongTotArea><ugrndFlrCnt>1</ugrndFlrCnt><useAprDay>19911120</useAprDay><vlRat>0</vlRat><vlRatEstmTotArea>6116.31</vlRatEstmTotArea></item><item><archArea>425.19</archArea><atchBldArea>0</atchBldArea><atchBldCnt>0</atchBldCnt><bcRat>14.86</bcRat><bjdongCd>10300</bjdongCd><bldNm>\\xeb\\x8c\\x80\\xec\\xb9\\x98\\xec\\x95\\x84\\xed\\x8c\\x8c\\xed\\x8a\\xb8214\\xeb\\x8f\\x99</bldNm><block> </block><bun>0012</bun><bylotCnt>0</bylotCnt><crtnDay>20190530</crtnDay><dongNm>214</dongNm><emgenUseElvtCnt>0</emgenUseElvtCnt><engrEpi>0</engrEpi><engrGrade> </engrGrade><engrRat>0</engrRat><etcPurps>\\xec\\x95\\x84\\xed\\x8c\\x8c\\xed\\x8a\\xb8</etcPurps><etcRoof>\\xec\\x8a\\xac\\xeb\\x9d\\xbc\\xeb\\xb8\\x8c</etcRoof><etcStrct>\\xec\\xb2\\xa0\\xea\\xb7\\xbc\\xec\\xbd\\x98\\xed\\x81\\xac\\xeb\\xa6\\xac\\xed\\x8a\\xb8\\xec\\xa1\\xb0</etcStrct><fmlyCnt>0</fmlyCnt><gnBldCert>0</gnBldCert><gnBldGrade> </gnBldGrade><grndFlrCnt>15</grndFlrCnt><heit>0</heit><hhldCnt>149</hhldCnt><hoCnt>0</hoCnt><indrAutoArea>0</indrAutoArea><indrAutoUtcnt>0</indrAutoUtcnt><indrMechArea>0</indrMechArea><indrMechUtcnt>0</indrMechUtcnt><itgBldCert>0</itgBldCert><itgBldGrade> </itgBldGrade><ji>0000</ji><lot> </lot><mainAtchGbCd>0</mainAtchGbCd><mainAtchGbCdNm>\\xec\\xa3\\xbc\\xea\\xb1\\xb4\\xec\\xb6\\x95\\xeb\\xac\\xbc</mainAtchGbCdNm><mainPurpsCd>02000</mainPurpsCd><mainPurpsCdNm>\\xea\\xb3\\xb5\\xeb\\x8f\\x99\\xec\\xa3\\xbc\\xed\\x83\\x9d</mainPurpsCdNm><mgmBldrgstPk>11680-918</mgmBldrgstPk><naBjdongCd>10301</naBjdongCd><naMainBun>9.0</naMainBun><naRoadCd>116804166040</naRoadCd><naSubBun>0.0</naSubBun><naUgrndCd>0</naUgrndCd><newPlatPlc> \\xec\\x84\\x9c\\xec\\x9a\\xb8\\xed\\x8a\\xb9\\xeb\\xb3\\x84\\xec\\x8b\\x9c \\xea\\xb0\\x95\\xeb\\x82\\xa8\\xea\\xb5\\xac \\xea\\xb0\\x9c\\xed\\x8f\\xac\\xeb\\xa1\\x9c109\\xea\\xb8\\xb8 9</newPlatPlc><oudrAutoArea>0</oudrAutoArea><oudrAutoUtcnt>0</oudrAutoUtcnt><oudrMechArea>0</oudrMechArea><oudrMechUtcnt>0</oudrMechUtcnt><platArea>0</platArea><platGbCd>0</platGbCd><platPlc>\\xec\\x84\\x9c\\xec\\x9a\\xb8\\xed\\x8a\\xb9\\xeb\\xb3\\x84\\xec\\x8b\\x9c \\xea\\xb0\\x95\\xeb\\x82\\xa8\\xea\\xb5\\xac \\xea\\xb0\\x9c\\xed\\x8f\\xac\\xeb\\x8f\\x99 12\\xeb\\xb2\\x88\\xec\\xa7\\x80</platPlc><pmsDay>19900818</pmsDay><pmsnoGbCd> </pmsnoGbCd><pmsnoGbCdNm> </pmsnoGbCdNm><pmsnoKikCd> </pmsnoKikCd><pmsnoKikCdNm> </pmsnoKikCdNm><pmsnoYear> </pmsnoYear><regstrGbCd>2</regstrGbCd><regstrGbCdNm>\\xec\\xa7\\x91\\xed\\x95\\xa9</regstrGbCdNm><regstrKindCd>3</regstrKindCd><regstrKindCdNm>\\xed\\x91\\x9c\\xec\\xa0\\x9c\\xeb\\xb6\\x80</regstrKindCdNm><rideUseElvtCnt>0</rideUseElvtCnt><rnum>5</rnum><roofCd>10</roofCd><roofCdNm>(\\xec\\xb2\\xa0\\xea\\xb7\\xbc)\\xec\\xbd\\x98\\xed\\x81\\xac\\xeb\\xa6\\xac\\xed\\x8a\\xb8</roofCdNm><rserthqkAblty> </rserthqkAblty><rserthqkDsgnApplyYn>1</rserthqkDsgnApplyYn><sigunguCd>11680</sigunguCd><splotNm> </splotNm><stcnsDay> </stcnsDay><strctCd>21</strctCd><strctCdNm>\\xec\\xb2\\xa0\\xea\\xb7\\xbc\\xec\\xbd\\x98\\xed\\x81\\xac\\xeb\\xa6\\xac\\xed\\x8a\\xb8\\xea\\xb5\\xac\\xec\\xa1\\xb0</strctCdNm><totArea>6586.13</totArea><totDongTotArea>6586.13</totDongTotArea><ugrndFlrCnt>1</ugrndFlrCnt><useAprDay>19921014</useAprDay><vlRat>174.87</vlRat><vlRatEstmTotArea>6377.85</vlRatEstmTotArea></item><item><archArea>685.26</archArea><atchBldArea>0</atchBldArea><atchBldCnt>0</atchBldCnt><bcRat>14.86</bcRat><bjdongCd>10300</bjdongCd><bldNm>\\xeb\\x8c\\x80\\xec\\xb9\\x98\\xec\\x95\\x84\\xed\\x8c\\x8c\\xed\\x8a\\xb8209\\xeb\\x8f\\x99</bldNm><block> </block><bun>0012</bun><bylotCnt>0</bylotCnt><crtnDay>20190530</crtnDay><dongNm>209</dongNm><emgenUseElvtCnt>0</emgenUseElvtCnt><engrEpi>0</engrEpi><engrGrade> </engrGrade><engrRat>0</engrRat><etcPurps>\\xec\\x95\\x84\\xed\\x8c\\x8c\\xed\\x8a\\xb8</etcPurps><etcRoof>\\xec\\x8a\\xac\\xeb\\x9d\\xbc\\xeb\\xb8\\x8c</etcRoof><etcStrct>\\xec\\xb2\\xa0\\xea\\xb7\\xbc\\xec\\xbd\\x98\\xed\\x81\\xac\\xeb\\xa6\\xac\\xed\\x8a\\xb8\\xec\\xa1\\xb0</etcStrct><fmlyCnt>0</fmlyCnt><gnBldCert>0</gnBldCert><gnBldGrade> </gnBldGrade><grndFlrCnt>15</grndFlrCnt><heit>0</heit><hhldCnt>239</hhldCnt><hoCnt>0</hoCnt><indrAutoArea>0</indrAutoArea><indrAutoUtcnt>0</indrAutoUtcnt><indrMechArea>0</indrMechArea><indrMechUtcnt>0</indrMechUtcnt><itgBldCert>0</itgBldCert><itgBldGrade> </itgBldGrade><ji>0000</ji><lot> </lot><mainAtchGbCd>0</mainAtchGbCd><mainAtchGbCdNm>\\xec\\xa3\\xbc\\xea\\xb1\\xb4\\xec\\xb6\\x95\\xeb\\xac\\xbc</mainAtchGbCdNm><mainPurpsCd>02000</mainPurpsCd><mainPurpsCdNm>\\xea\\xb3\\xb5\\xeb\\x8f\\x99\\xec\\xa3\\xbc\\xed\\x83\\x9d</mainPurpsCdNm><mgmBldrgstPk>11680-922</mgmBldrgstPk><naBjdongCd>10301</naBjdongCd><naMainBun>9.0</naMainBun><naRoadCd>116804166040</naRoadCd><naSubBun>0.0</naSubBun><naUgrndCd>0</naUgrndCd><newPlatPlc> \\xec\\x84\\x9c\\xec\\x9a\\xb8\\xed\\x8a\\xb9\\xeb\\xb3\\x84\\xec\\x8b\\x9c \\xea\\xb0\\x95\\xeb\\x82\\xa8\\xea\\xb5\\xac \\xea\\xb0\\x9c\\xed\\x8f\\xac\\xeb\\xa1\\x9c109\\xea\\xb8\\xb8 9</newPlatPlc><oudrAutoArea>0</oudrAutoArea><oudrAutoUtcnt>0</oudrAutoUtcnt><oudrMechArea>0</oudrMechArea><oudrMechUtcnt>0</oudrMechUtcnt><platArea>0</platArea><platGbCd>0</platGbCd><platPlc>\\xec\\x84\\x9c\\xec\\x9a\\xb8\\xed\\x8a\\xb9\\xeb\\xb3\\x84\\xec\\x8b\\x9c \\xea\\xb0\\x95\\xeb\\x82\\xa8\\xea\\xb5\\xac \\xea\\xb0\\x9c\\xed\\x8f\\xac\\xeb\\x8f\\x99 12\\xeb\\xb2\\x88\\xec\\xa7\\x80</platPlc><pmsDay>19900818</pmsDay><pmsnoGbCd> </pmsnoGbCd><pmsnoGbCdNm> </pmsnoGbCdNm><pmsnoKikCd> </pmsnoKikCd><pmsnoKikCdNm> </pmsnoKikCdNm><pmsnoYear> </pmsnoYear><regstrGbCd>2</regstrGbCd><regstrGbCdNm>\\xec\\xa7\\x91\\xed\\x95\\xa9</regstrGbCdNm><regstrKindCd>3</regstrKindCd><regstrKindCdNm>\\xed\\x91\\x9c\\xec\\xa0\\x9c\\xeb\\xb6\\x80</regstrKindCdNm><rideUseElvtCnt>0</rideUseElvtCnt><rnum>6</rnum><roofCd>10</roofCd><roofCdNm>(\\xec\\xb2\\xa0\\xea\\xb7\\xbc)\\xec\\xbd\\x98\\xed\\x81\\xac\\xeb\\xa6\\xac\\xed\\x8a\\xb8</roofCdNm><rserthqkAblty> </rserthqkAblty><rserthqkDsgnApplyYn>1</rserthqkDsgnApplyYn><sigunguCd>11680</sigunguCd><splotNm> </splotNm><stcnsDay> </stcnsDay><strctCd>21</strctCd><strctCdNm>\\xec\\xb2\\xa0\\xea\\xb7\\xbc\\xec\\xbd\\x98\\xed\\x81\\xac\\xeb\\xa6\\xac\\xed\\x8a\\xb8\\xea\\xb5\\xac\\xec\\xa1\\xb0</strctCdNm><totArea>10695.46</totArea><totDongTotArea>10695.46</totDongTotArea><ugrndFlrCnt>1</ugrndFlrCnt><useAprDay>19921014</useAprDay><vlRat>174.87</vlRat><vlRatEstmTotArea>10278.9</vlRatEstmTotArea></item><item><archArea>609.56</archArea><atchBldArea>0</atchBldArea><atchBldCnt>0</atchBldCnt><bcRat>0</bcRat><bjdongCd>10300</bjdongCd><bldNm>\\xeb\\x8c\\x80\\xec\\xb9\\x98\\xec\\x95\\x84\\xed\\x8c\\x8c\\xed\\x8a\\xb8107\\xeb\\x8f\\x99</bldNm><block> </block><bun>0012</bun><bylotCnt>0</bylotCnt><crtnDay>20190530</crtnDay><dongNm>107</dongNm><emgenUseElvtCnt>0</emgenUseElvtCnt><engrEpi>0</engrEpi><engrGrade> </engrGrade><engrRat>0</engrRat><etcPurps>\\xec\\x95\\x84\\xed\\x8c\\x8c\\xed\\x8a\\xb8</etcPurps><etcRoof>\\xec\\x8a\\xac\\xeb\\x9d\\xbc\\xeb\\xb8\\x8c</etcRoof><etcStrct>\\xec\\xb2\\xa0\\xea\\xb7\\xbc\\xec\\xbd\\x98\\xed\\x81\\xac\\xeb\\xa6\\xac\\xed\\x8a\\xb8\\xec\\xa1\\xb0</etcStrct><fmlyCnt>0</fmlyCnt><gnBldCert>0</gnBldCert><gnBldGrade> </gnBldGrade><grndFlrCnt>15</grndFlrCnt><heit>0</heit><hhldCnt>264</hhldCnt><hoCnt>0</hoCnt><indrAutoArea>0</indrAutoArea><indrAutoUtcnt>0</indrAutoUtcnt><indrMechArea>0</indrMechArea><indrMechUtcnt>0</indrMechUtcnt><itgBldCert>0</itgBldCert><itgBldGrade> </itgBldGrade><ji>0000</ji><lot> </lot><mainAtchGbCd>0</mainAtchGbCd><mainAtchGbCdNm>\\xec\\xa3\\xbc\\xea\\xb1\\xb4\\xec\\xb6\\x95\\xeb\\xac\\xbc</mainAtchGbCdNm><mainPurpsCd>02000</mainPurpsCd><mainPurpsCdNm>\\xea\\xb3\\xb5\\xeb\\x8f\\x99\\xec\\xa3\\xbc\\xed\\x83\\x9d</mainPurpsCdNm><mgmBldrgstPk>11680-923</mgmBldrgstPk><naBjdongCd>10301</naBjdongCd><naMainBun>5.0</naMainBun><naRoadCd>116804166040</naRoadCd><naSubBun>0.0</naSubBun><naUgrndCd>0</naUgrndCd><newPlatPlc> \\xec\\x84\\x9c\\xec\\x9a\\xb8\\xed\\x8a\\xb9\\xeb\\xb3\\x84\\xec\\x8b\\x9c \\xea\\xb0\\x95\\xeb\\x82\\xa8\\xea\\xb5\\xac \\xea\\xb0\\x9c\\xed\\x8f\\xac\\xeb\\xa1\\x9c109\\xea\\xb8\\xb8 5</newPlatPlc><oudrAutoArea>0</oudrAutoArea><oudrAutoUtcnt>0</oudrAutoUtcnt><oudrMechArea>0</oudrMechArea><oudrMechUtcnt>0</oudrMechUtcnt><platArea>0</platArea><platGbCd>0</platGbCd><platPlc>\\xec\\x84\\x9c\\xec\\x9a\\xb8\\xed\\x8a\\xb9\\xeb\\xb3\\x84\\xec\\x8b\\x9c \\xea\\xb0\\x95\\xeb\\x82\\xa8\\xea\\xb5\\xac \\xea\\xb0\\x9c\\xed\\x8f\\xac\\xeb\\x8f\\x99 12\\xeb\\xb2\\x88\\xec\\xa7\\x80</platPlc><pmsDay>19891226</pmsDay><pmsnoGbCd> </pmsnoGbCd><pmsnoGbCdNm> </pmsnoGbCdNm><pmsnoKikCd> </pmsnoKikCd><pmsnoKikCdNm> </pmsnoKikCdNm><pmsnoYear> </pmsnoYear><regstrGbCd>2</regstrGbCd><regstrGbCdNm>\\xec\\xa7\\x91\\xed\\x95\\xa9</regstrGbCdNm><regstrKindCd>3</regstrKindCd><regstrKindCdNm>\\xed\\x91\\x9c\\xec\\xa0\\x9c\\xeb\\xb6\\x80</regstrKindCdNm><rideUseElvtCnt>0</rideUseElvtCnt><rnum>7</rnum><roofCd>10</roofCd><roofCdNm>(\\xec\\xb2\\xa0\\xea\\xb7\\xbc)\\xec\\xbd\\x98\\xed\\x81\\xac\\xeb\\xa6\\xac\\xed\\x8a\\xb8</roofCdNm><rserthqkAblty> </rserthqkAblty><rserthqkDsgnApplyYn>1</rserthqkDsgnApplyYn><sigunguCd>11680</sigunguCd><splotNm> </splotNm><stcnsDay> </stcnsDay><strctCd>21</strctCd><strctCdNm>\\xec\\xb2\\xa0\\xea\\xb7\\xbc\\xec\\xbd\\x98\\xed\\x81\\xac\\xeb\\xa6\\xac\\xed\\x8a\\xb8\\xea\\xb5\\xac\\xec\\xa1\\xb0</strctCdNm><totArea>9572.66</totArea><totDongTotArea>9572.66</totDongTotArea><ugrndFlrCnt>1</ugrndFlrCnt><useAprDay>19911120</useAprDay><vlRat>0</vlRat><vlRatEstmTotArea>9022.28</vlRatEstmTotArea></item><item><archArea>417.43</archArea><atchBldArea>0</atchBldArea><atchBldCnt>0</atchBldCnt><bcRat>0</bcRat><bjdongCd>10300</bjdongCd><bldNm>\\xeb\\x8c\\x80\\xec\\xb9\\x98\\xec\\x95\\x84\\xed\\x8c\\x8c\\xed\\x8a\\xb8108\\xeb\\x8f\\x99</bldNm><block> </block><bun>0012</bun><bylotCnt>0</bylotCnt><crtnDay>20190530</crtnDay><dongNm>108</dongNm><emgenUseElvtCnt>0</emgenUseElvtCnt><engrEpi>0</engrEpi><engrGrade> </engrGrade><engrRat>0</engrRat><etcPurps>\\xec\\x95\\x84\\xed\\x8c\\x8c\\xed\\x8a\\xb8</etcPurps><etcRoof>\\xec\\x8a\\xac\\xeb\\x9d\\xbc\\xeb\\xb8\\x8c</etcRoof><etcStrct>\\xec\\xb2\\xa0\\xea\\xb7\\xbc\\xec\\xbd\\x98\\xed\\x81\\xac\\xeb\\xa6\\xac\\xed\\x8a\\xb8\\xec\\xa1\\xb0</etcStrct><fmlyCnt>0</fmlyCnt><gnBldCert>0</gnBldCert><gnBldGrade> </gnBldGrade><grndFlrCnt>15</grndFlrCnt><heit>0</heit><hhldCnt>119</hhldCnt><hoCnt>0</hoCnt><indrAutoArea>0</indrAutoArea><indrAutoUtcnt>0</indrAutoUtcnt><indrMechArea>0</indrMechArea><indrMechUtcnt>0</indrMechUtcnt><itgBldCert>0</itgBldCert><itgBldGrade> </itgBldGrade><ji>0000</ji><lot> </lot><mainAtchGbCd>0</mainAtchGbCd><mainAtchGbCdNm>\\xec\\xa3\\xbc\\xea\\xb1\\xb4\\xec\\xb6\\x95\\xeb\\xac\\xbc</mainAtchGbCdNm><mainPurpsCd>02000</mainPurpsCd><mainPurpsCdNm>\\xea\\xb3\\xb5\\xeb\\x8f\\x99\\xec\\xa3\\xbc\\xed\\x83\\x9d</mainPurpsCdNm><mgmBldrgstPk>11680-926</mgmBldrgstPk><naBjdongCd>10301</naBjdongCd><naMainBun>5.0</naMainBun><naRoadCd>116804166040</naRoadCd><naSubBun>0.0</naSubBun><naUgrndCd>0</naUgrndCd><newPlatPlc> \\xec\\x84\\x9c\\xec\\x9a\\xb8\\xed\\x8a\\xb9\\xeb\\xb3\\x84\\xec\\x8b\\x9c \\xea\\xb0\\x95\\xeb\\x82\\xa8\\xea\\xb5\\xac \\xea\\xb0\\x9c\\xed\\x8f\\xac\\xeb\\xa1\\x9c109\\xea\\xb8\\xb8 5</newPlatPlc><oudrAutoArea>0</oudrAutoArea><oudrAutoUtcnt>0</oudrAutoUtcnt><oudrMechArea>0</oudrMechArea><oudrMechUtcnt>0</oudrMechUtcnt><platArea>0</platArea><platGbCd>0</platGbCd><platPlc>\\xec\\x84\\x9c\\xec\\x9a\\xb8\\xed\\x8a\\xb9\\xeb\\xb3\\x84\\xec\\x8b\\x9c \\xea\\xb0\\x95\\xeb\\x82\\xa8\\xea\\xb5\\xac \\xea\\xb0\\x9c\\xed\\x8f\\xac\\xeb\\x8f\\x99 12\\xeb\\xb2\\x88\\xec\\xa7\\x80</platPlc><pmsDay>19891226</pmsDay><pmsnoGbCd> </pmsnoGbCd><pmsnoGbCdNm> </pmsnoGbCdNm><pmsnoKikCd> </pmsnoKikCd><pmsnoKikCdNm> </pmsnoKikCdNm><pmsnoYear> </pmsnoYear><regstrGbCd>2</regstrGbCd><regstrGbCdNm>\\xec\\xa7\\x91\\xed\\x95\\xa9</regstrGbCdNm><regstrKindCd>3</regstrKindCd><regstrKindCdNm>\\xed\\x91\\x9c\\xec\\xa0\\x9c\\xeb\\xb6\\x80</regstrKindCdNm><rideUseElvtCnt>0</rideUseElvtCnt><rnum>8</rnum><roofCd>10</roofCd><roofCdNm>(\\xec\\xb2\\xa0\\xea\\xb7\\xbc)\\xec\\xbd\\x98\\xed\\x81\\xac\\xeb\\xa6\\xac\\xed\\x8a\\xb8</roofCdNm><rserthqkAblty> </rserthqkAblty><rserthqkDsgnApplyYn>1</rserthqkDsgnApplyYn><sigunguCd>11680</sigunguCd><splotNm> </splotNm><stcnsDay> </stcnsDay><strctCd>21</strctCd><strctCdNm>\\xec\\xb2\\xa0\\xea\\xb7\\xbc\\xec\\xbd\\x98\\xed\\x81\\xac\\xeb\\xa6\\xac\\xed\\x8a\\xb8\\xea\\xb5\\xac\\xec\\xa1\\xb0</strctCdNm><totArea>6616.59</totArea><totDongTotArea>6616.59</totDongTotArea><ugrndFlrCnt>1</ugrndFlrCnt><useAprDay>19911120</useAprDay><vlRat>0</vlRat><vlRatEstmTotArea>6261.45</vlRatEstmTotArea></item><item><archArea>346.23</archArea><atchBldArea>0</atchBldArea><atchBldCnt>0</atchBldCnt><bcRat>0</bcRat><bjdongCd>10300</bjdongCd><bldNm>\\xeb\\x8c\\x80\\xec\\xb9\\x98\\xec\\x95\\x84\\xed\\x8c\\x8c\\xed\\x8a\\xb8102\\xeb\\x8f\\x99</bldNm><block> </block><bun>0012</bun><bylotCnt>0</bylotCnt><crtnDay>20190530</crtnDay><dongNm>102</dongNm><emgenUseElvtCnt>0</emgenUseElvtCnt><engrEpi>0</engrEpi><engrGrade> </engrGrade><engrRat>0</engrRat><etcPurps>\\xec\\x95\\x84\\xed\\x8c\\x8c\\xed\\x8a\\xb8</etcPurps><etcRoof>\\xec\\x8a\\xac\\xeb\\x9d\\xbc\\xeb\\xb8\\x8c</etcRoof><etcStrct>\\xec\\xb2\\xa0\\xea\\xb7\\xbc\\xec\\xbd\\x98\\xed\\x81\\xac\\xeb\\xa6\\xac\\xed\\x8a\\xb8\\xec\\xa1\\xb0</etcStrct><fmlyCnt>0</fmlyCnt><gnBldCert>0</gnBldCert><gnBldGrade> </gnBldGrade><grndFlrCnt>15</grndFlrCnt><heit>0</heit><hhldCnt>119</hhldCnt><hoCnt>0</hoCnt><indrAutoArea>0</indrAutoArea><indrAutoUtcnt>0</indrAutoUtcnt><indrMechArea>0</indrMechArea><indrMechUtcnt>0</indrMechUtcnt><itgBldCert>0</itgBldCert><itgBldGrade> </itgBldGrade><ji>0000</ji><lot> </lot><mainAtchGbCd>0</mainAtchGbCd><mainAtchGbCdNm>\\xec\\xa3\\xbc\\xea\\xb1\\xb4\\xec\\xb6\\x95\\xeb\\xac\\xbc</mainAtchGbCdNm><mainPurpsCd>02000</mainPurpsCd><mainPurpsCdNm>\\xea\\xb3\\xb5\\xeb\\x8f\\x99\\xec\\xa3\\xbc\\xed\\x83\\x9d</mainPurpsCdNm><mgmBldrgstPk>11680-931</mgmBldrgstPk><naBjdongCd>10301</naBjdongCd><naMainBun>5.0</naMainBun><naRoadCd>116804166040</naRoadCd><naSubBun>0.0</naSubBun><naUgrndCd>0</naUgrndCd><newPlatPlc> \\xec\\x84\\x9c\\xec\\x9a\\xb8\\xed\\x8a\\xb9\\xeb\\xb3\\x84\\xec\\x8b\\x9c \\xea\\xb0\\x95\\xeb\\x82\\xa8\\xea\\xb5\\xac \\xea\\xb0\\x9c\\xed\\x8f\\xac\\xeb\\xa1\\x9c109\\xea\\xb8\\xb8 5</newPlatPlc><oudrAutoArea>0</oudrAutoArea><oudrAutoUtcnt>0</oudrAutoUtcnt><oudrMechArea>0</oudrMechArea><oudrMechUtcnt>0</oudrMechUtcnt><platArea>0</platArea><platGbCd>0</platGbCd><platPlc>\\xec\\x84\\x9c\\xec\\x9a\\xb8\\xed\\x8a\\xb9\\xeb\\xb3\\x84\\xec\\x8b\\x9c \\xea\\xb0\\x95\\xeb\\x82\\xa8\\xea\\xb5\\xac \\xea\\xb0\\x9c\\xed\\x8f\\xac\\xeb\\x8f\\x99 12\\xeb\\xb2\\x88\\xec\\xa7\\x80</platPlc><pmsDay>19891226</pmsDay><pmsnoGbCd> </pmsnoGbCd><pmsnoGbCdNm> </pmsnoGbCdNm><pmsnoKikCd> </pmsnoKikCd><pmsnoKikCdNm> </pmsnoKikCdNm><pmsnoYear> </pmsnoYear><regstrGbCd>2</regstrGbCd><regstrGbCdNm>\\xec\\xa7\\x91\\xed\\x95\\xa9</regstrGbCdNm><regstrKindCd>3</regstrKindCd><regstrKindCdNm>\\xed\\x91\\x9c\\xec\\xa0\\x9c\\xeb\\xb6\\x80</regstrKindCdNm><rideUseElvtCnt>0</rideUseElvtCnt><rnum>9</rnum><roofCd>10</roofCd><roofCdNm>(\\xec\\xb2\\xa0\\xea\\xb7\\xbc)\\xec\\xbd\\x98\\xed\\x81\\xac\\xeb\\xa6\\xac\\xed\\x8a\\xb8</roofCdNm><rserthqkAblty> </rserthqkAblty><rserthqkDsgnApplyYn>1</rserthqkDsgnApplyYn><sigunguCd>11680</sigunguCd><splotNm> </splotNm><stcnsDay> </stcnsDay><strctCd>21</strctCd><strctCdNm>\\xec\\xb2\\xa0\\xea\\xb7\\xbc\\xec\\xbd\\x98\\xed\\x81\\xac\\xeb\\xa6\\xac\\xed\\x8a\\xb8\\xea\\xb5\\xac\\xec\\xa1\\xb0</strctCdNm><totArea>5501.27</totArea><totDongTotArea>5501.27</totDongTotArea><ugrndFlrCnt>1</ugrndFlrCnt><useAprDay>19911120</useAprDay><vlRat>0</vlRat><vlRatEstmTotArea>5193.45</vlRatEstmTotArea></item><item><archArea>425.19</archArea><atchBldArea>0</atchBldArea><atchBldCnt>0</atchBldCnt><bcRat>0</bcRat><bjdongCd>10300</bjdongCd><bldNm>\\xeb\\x8c\\x80\\xec\\xb9\\x98\\xec\\x95\\x84\\xed\\x8c\\x8c\\xed\\x8a\\xb8105\\xeb\\x8f\\x99</bldNm><block> </block><bun>0012</bun><bylotCnt>0</bylotCnt><crtnDay>20190530</crtnDay><dongNm>105</dongNm><emgenUseElvtCnt>0</emgenUseElvtCnt><engrEpi>0</engrEpi><engrGrade> </engrGrade><engrRat>0</engrRat><etcPurps>\\xec\\x95\\x84\\xed\\x8c\\x8c\\xed\\x8a\\xb8</etcPurps><etcRoof>\\xec\\x8a\\xac\\xeb\\x9d\\xbc\\xeb\\xb8\\x8c</etcRoof><etcStrct>\\xec\\xb2\\xa0\\xea\\xb7\\xbc\\xec\\xbd\\x98\\xed\\x81\\xac\\xeb\\xa6\\xac\\xed\\x8a\\xb8\\xec\\xa1\\xb0</etcStrct><fmlyCnt>0</fmlyCnt><gnBldCert>0</gnBldCert><gnBldGrade> </gnBldGrade><grndFlrCnt>15</grndFlrCnt><heit>0</heit><hhldCnt>149</hhldCnt><hoCnt>0</hoCnt><indrAutoArea>0</indrAutoArea><indrAutoUtcnt>0</indrAutoUtcnt><indrMechArea>0</indrMechArea><indrMechUtcnt>0</indrMechUtcnt><itgBldCert>0</itgBldCert><itgBldGrade> </itgBldGrade><ji>0000</ji><lot> </lot><mainAtchGbCd>0</mainAtchGbCd><mainAtchGbCdNm>\\xec\\xa3\\xbc\\xea\\xb1\\xb4\\xec\\xb6\\x95\\xeb\\xac\\xbc</mainAtchGbCdNm><mainPurpsCd>02000</mainPurpsCd><mainPurpsCdNm>\\xea\\xb3\\xb5\\xeb\\x8f\\x99\\xec\\xa3\\xbc\\xed\\x83\\x9d</mainPurpsCdNm><mgmBldrgstPk>11680-933</mgmBldrgstPk><naBjdongCd>10301</naBjdongCd><naMainBun>5.0</naMainBun><naRoadCd>116804166040</naRoadCd><naSubBun>0.0</naSubBun><naUgrndCd>0</naUgrndCd><newPlatPlc> \\xec\\x84\\x9c\\xec\\x9a\\xb8\\xed\\x8a\\xb9\\xeb\\xb3\\x84\\xec\\x8b\\x9c \\xea\\xb0\\x95\\xeb\\x82\\xa8\\xea\\xb5\\xac \\xea\\xb0\\x9c\\xed\\x8f\\xac\\xeb\\xa1\\x9c109\\xea\\xb8\\xb8 5</newPlatPlc><oudrAutoArea>0</oudrAutoArea><oudrAutoUtcnt>0</oudrAutoUtcnt><oudrMechArea>0</oudrMechArea><oudrMechUtcnt>0</oudrMechUtcnt><platArea>0</platArea><platGbCd>0</platGbCd><platPlc>\\xec\\x84\\x9c\\xec\\x9a\\xb8\\xed\\x8a\\xb9\\xeb\\xb3\\x84\\xec\\x8b\\x9c \\xea\\xb0\\x95\\xeb\\x82\\xa8\\xea\\xb5\\xac \\xea\\xb0\\x9c\\xed\\x8f\\xac\\xeb\\x8f\\x99 12\\xeb\\xb2\\x88\\xec\\xa7\\x80</platPlc><pmsDay>19891226</pmsDay><pmsnoGbCd> </pmsnoGbCd><pmsnoGbCdNm> </pmsnoGbCdNm><pmsnoKikCd> </pmsnoKikCd><pmsnoKikCdNm> </pmsnoKikCdNm><pmsnoYear> </pmsnoYear><regstrGbCd>2</regstrGbCd><regstrGbCdNm>\\xec\\xa7\\x91\\xed\\x95\\xa9</regstrGbCdNm><regstrKindCd>3</regstrKindCd><regstrKindCdNm>\\xed\\x91\\x9c\\xec\\xa0\\x9c\\xeb\\xb6\\x80</regstrKindCdNm><rideUseElvtCnt>0</rideUseElvtCnt><rnum>10</rnum><roofCd>10</roofCd><roofCdNm>(\\xec\\xb2\\xa0\\xea\\xb7\\xbc)\\xec\\xbd\\x98\\xed\\x81\\xac\\xeb\\xa6\\xac\\xed\\x8a\\xb8</roofCdNm><rserthqkAblty> </rserthqkAblty><rserthqkDsgnApplyYn>1</rserthqkDsgnApplyYn><sigunguCd>11680</sigunguCd><splotNm> </splotNm><stcnsDay> </stcnsDay><strctCd>21</strctCd><strctCdNm>\\xec\\xb2\\xa0\\xea\\xb7\\xbc\\xec\\xbd\\x98\\xed\\x81\\xac\\xeb\\xa6\\xac\\xed\\x8a\\xb8\\xea\\xb5\\xac\\xec\\xa1\\xb0</strctCdNm><totArea>6752.03</totArea><totDongTotArea>6752.03</totDongTotArea><ugrndFlrCnt>1</ugrndFlrCnt><useAprDay>19921120</useAprDay><vlRat>0</vlRat><vlRatEstmTotArea>6377.85</vlRatEstmTotArea></item></items><numOfRows>10</numOfRows><pageNo>1</pageNo><totalCount>34</totalCount></body></response>'\n"
     ]
    }
   ],
   "source": [
    "\n",
    "import requests\n",
    "\n",
    "url = 'http://apis.data.go.kr/1613000/BldRgstService_v2/getBrTitleInfo'\n",
    "params ={'serviceKey' : serviceKey, 'sigunguCd' : '11680', 'bjdongCd' : '10300', 'platGbCd' : '0', 'bun' : '0012', 'ji' : '0000', 'startDate' : '', 'endDate' : '', 'numOfRows' : '10', 'pageNo' : '1' }\n",
    "\n",
    "response = requests.get(url, params=params)\n",
    "print(response.content)"
   ]
  },
  {
   "cell_type": "code",
   "execution_count": 9,
   "metadata": {},
   "outputs": [
    {
     "name": "stdout",
     "output_type": "stream",
     "text": [
      "Result Code: 00\n",
      "Result Message: NORMAL SERVICE.\n",
      "Number of Rows: 10\n",
      "Page Number: 1\n",
      "Total Count: 34\n"
     ]
    }
   ],
   "source": [
    "import xml.etree.ElementTree as ET\n",
    "\n",
    "# 주어진 XML 데이터\n",
    "data = response.content\n",
    "\n",
    "# XML 데이터 파싱\n",
    "root = ET.fromstring(data)\n",
    "\n",
    "# XML 데이터에서 필요한 정보 추출\n",
    "result_code = root.find('.//resultCode').text\n",
    "result_msg = root.find('.//resultMsg').text\n",
    "num_of_rows = root.find('.//numOfRows').text\n",
    "page_no = root.find('.//pageNo').text\n",
    "total_count = root.find('.//totalCount').text\n",
    "\n",
    "# 추출한 정보 출력\n",
    "print(\"Result Code:\", result_code)\n",
    "print(\"Result Message:\", result_msg)\n",
    "print(\"Number of Rows:\", num_of_rows)\n",
    "print(\"Page Number:\", page_no)\n",
    "print(\"Total Count:\", total_count)\n"
   ]
  },
  {
   "cell_type": "code",
   "execution_count": null,
   "metadata": {},
   "outputs": [],
   "source": []
  }
 ],
 "metadata": {
  "kernelspec": {
   "display_name": "Python 3",
   "language": "python",
   "name": "python3"
  },
  "language_info": {
   "codemirror_mode": {
    "name": "ipython",
    "version": 3
   },
   "file_extension": ".py",
   "mimetype": "text/x-python",
   "name": "python",
   "nbconvert_exporter": "python",
   "pygments_lexer": "ipython3",
   "version": "3.9.6"
  }
 },
 "nbformat": 4,
 "nbformat_minor": 2
}
