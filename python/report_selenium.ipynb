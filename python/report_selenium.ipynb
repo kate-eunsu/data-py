{
 "cells": [
  {
   "cell_type": "code",
   "execution_count": 7,
   "metadata": {},
   "outputs": [],
   "source": [
    "import requests\n",
    "import json\n",
    "\n",
    "# API URL\n",
    "url = \"https://business.juso.go.kr/addrlink/addrLinkApiJsonp.do\"\n",
    "\n",
    "# 요청 파라미터\n",
    "params = {\n",
    "    'confmKey': 'U01TX0FVVEgyMDI0MDYyMTE2MjQyNTExNDg2MDA=',        # 여기에 실제 confmKey를 입력하세요\n",
    "    'currentPage':1,\n",
    "    'countPerPage':10,\n",
    "    'keyword':'마포구 숭문16길 5',\n",
    "    'resultType': 'json',               # 결과 형식 (json 또는 xml)\n",
    "}\n",
    "\n",
    "response = requests.get(url, params=params)\n",
    "json_str = response.text[1:-1]\n",
    "building = json.loads(json_str)['results']['juso'][0]"
   ]
  },
  {
   "cell_type": "code",
   "execution_count": 8,
   "metadata": {},
   "outputs": [
    {
     "data": {
      "text/plain": [
       "{'detBdNmList': '',\n",
       " 'engAddr': '5 Sungmun 16-gil, Mapo-gu, Seoul',\n",
       " 'rn': '숭문16길',\n",
       " 'emdNm': '염리동',\n",
       " 'zipNo': '04113',\n",
       " 'roadAddrPart2': ' (염리동, 세연2차)',\n",
       " 'emdNo': '02',\n",
       " 'sggNm': '마포구',\n",
       " 'jibunAddr': '서울특별시 마포구 염리동 9-213 세연2차',\n",
       " 'siNm': '서울특별시',\n",
       " 'roadAddrPart1': '서울특별시 마포구 숭문16길 5',\n",
       " 'bdNm': '세연2차',\n",
       " 'admCd': '1144010900',\n",
       " 'udrtYn': '0',\n",
       " 'lnbrMnnm': '9',\n",
       " 'roadAddr': '서울특별시 마포구 숭문16길 5 (염리동, 세연2차)',\n",
       " 'lnbrSlno': '213',\n",
       " 'buldMnnm': '5',\n",
       " 'bdKdcd': '1',\n",
       " 'liNm': '',\n",
       " 'rnMgtSn': '114404139370',\n",
       " 'mtYn': '0',\n",
       " 'bdMgtSn': '1144010900100090213005737',\n",
       " 'buldSlno': '0'}"
      ]
     },
     "execution_count": 8,
     "metadata": {},
     "output_type": "execute_result"
    }
   ],
   "source": [
    "building"
   ]
  },
  {
   "cell_type": "code",
   "execution_count": null,
   "metadata": {},
   "outputs": [],
   "source": []
  },
  {
   "cell_type": "code",
   "execution_count": null,
   "metadata": {},
   "outputs": [],
   "source": [
    "# 소재지번으로 찾기\n",
    "search02Tab\n",
    "\n",
    "#부동산 구분\n",
    "selkindcls\n",
    "value = 집합건물 or 건물\n",
    "\n",
    "#시도\n",
    "e001admin_regn1\n",
    "서울특별시\n",
    "\n",
    "#등기기록상태\n",
    "cls_flag\n",
    "\n",
    "\n",
    "\n",
    "\n"
   ]
  },
  {
   "cell_type": "code",
   "execution_count": null,
   "metadata": {},
   "outputs": [],
   "source": [
    "\n",
    "토지 : 대지, 도로, 전답, 임야 등,\n",
    "건물 : 하나의 독립적인 건물로 등기된 건물(일반주택, 다가구주택, 단일상가 등),\n",
    "집합건물 : 1동의 건물을 수개로 구분하여 등기한 건물(아파트, 연립주택, 오피스텔, 상가 등)\n",
    "\n",
    "※ 토지+건물 선택시 건물을 검색한 후 같은 소재지번의 토지를 자동으로 검색합니다."
   ]
  },
  {
   "cell_type": "markdown",
   "metadata": {},
   "source": []
  }
 ],
 "metadata": {
  "kernelspec": {
   "display_name": "Python 3",
   "language": "python",
   "name": "python3"
  },
  "language_info": {
   "codemirror_mode": {
    "name": "ipython",
    "version": 3
   },
   "file_extension": ".py",
   "mimetype": "text/x-python",
   "name": "python",
   "nbconvert_exporter": "python",
   "pygments_lexer": "ipython3",
   "version": "3.9.6"
  }
 },
 "nbformat": 4,
 "nbformat_minor": 2
}
