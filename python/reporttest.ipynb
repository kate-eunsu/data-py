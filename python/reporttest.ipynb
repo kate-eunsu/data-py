{
 "cells": [
  {
   "cell_type": "code",
   "execution_count": 28,
   "metadata": {},
   "outputs": [
    {
     "name": "stdout",
     "output_type": "stream",
     "text": [
      "Requirement already satisfied: easycodefpy in /opt/homebrew/lib/python3.11/site-packages (1.0.1)\n",
      "Requirement already satisfied: pycryptodome>=3.9.8 in /opt/homebrew/lib/python3.11/site-packages (from easycodefpy) (3.20.0)\n",
      "Requirement already satisfied: requests>=2.24.0 in /opt/homebrew/lib/python3.11/site-packages (from easycodefpy) (2.32.3)\n",
      "Requirement already satisfied: charset-normalizer<4,>=2 in /opt/homebrew/lib/python3.11/site-packages (from requests>=2.24.0->easycodefpy) (3.3.2)\n",
      "Requirement already satisfied: idna<4,>=2.5 in /Users/kim-eunsu/Library/Python/3.11/lib/python/site-packages (from requests>=2.24.0->easycodefpy) (3.4)\n",
      "Requirement already satisfied: urllib3<3,>=1.21.1 in /opt/homebrew/lib/python3.11/site-packages (from requests>=2.24.0->easycodefpy) (2.2.2)\n",
      "Requirement already satisfied: certifi>=2017.4.17 in /opt/homebrew/lib/python3.11/site-packages (from requests>=2.24.0->easycodefpy) (2024.6.2)\n",
      "\n",
      "\u001b[1m[\u001b[0m\u001b[34;49mnotice\u001b[0m\u001b[1;39;49m]\u001b[0m\u001b[39;49m A new release of pip available: \u001b[0m\u001b[31;49m22.3.1\u001b[0m\u001b[39;49m -> \u001b[0m\u001b[32;49m24.1\u001b[0m\n",
      "\u001b[1m[\u001b[0m\u001b[34;49mnotice\u001b[0m\u001b[1;39;49m]\u001b[0m\u001b[39;49m To update, run: \u001b[0m\u001b[32;49mpython3.11 -m pip install --upgrade pip\u001b[0m\n",
      "Requirement already satisfied: rsa in /opt/homebrew/lib/python3.11/site-packages (4.9)\n",
      "Requirement already satisfied: pyasn1>=0.1.3 in /opt/homebrew/lib/python3.11/site-packages (from rsa) (0.6.0)\n",
      "\n",
      "\u001b[1m[\u001b[0m\u001b[34;49mnotice\u001b[0m\u001b[1;39;49m]\u001b[0m\u001b[39;49m A new release of pip available: \u001b[0m\u001b[31;49m22.3.1\u001b[0m\u001b[39;49m -> \u001b[0m\u001b[32;49m24.1\u001b[0m\n",
      "\u001b[1m[\u001b[0m\u001b[34;49mnotice\u001b[0m\u001b[1;39;49m]\u001b[0m\u001b[39;49m To update, run: \u001b[0m\u001b[32;49mpython3.11 -m pip install --upgrade pip\u001b[0m\n"
     ]
    }
   ],
   "source": [
    "!pip3 install easycodefpy\n",
    "!pip3 install rsa\n",
    "\n",
    "from easycodefpy import Codef, ServiceType"
   ]
  },
  {
   "cell_type": "code",
   "execution_count": 31,
   "metadata": {},
   "outputs": [],
   "source": [
    "demo_client_id = '0e8d120c-16bf-476a-b1e8-9b9f66f9d735'\n",
    "demo_client_secret = 'd69437c4-a2fd-404c-9e34-b2c1965ceea2'\n",
    "\n",
    "client_id = 'ef27cfaa-10c1-4470-adac-60ba476273f9'\n",
    "client_secret = '83160c33-9045-4915-86d8-809473cdf5c3'\n",
    "\n",
    "public_k='MIIBIjANBgkqhkiG9w0BAQEFAAOCAQ8AMIIBCgKCAQEAj7rfadW/9WdJn5mJFcJY6ROv1q28+VPEaMLa2bk96TzkLVOe1y50IspzaEvLgxn/xQw5qZBPzHyg0g/22VEXpCHZHVhFjjTxgWgELex4acAK6pbzMVrweI0UDsjAcEq2DhCKCF8O3FXAdSoitlYyYN/TmqAFw6eZcJRxciIYmJef5byniYcvuufYPCHMk4nSRrHcrQjAUdkawOAV1e6bI5YkMpCwpzIrxvDXKYLK7diwZxY5xreIP+J51iyeuVP50NKeMDPvpzhbcJXpnmwBpz5iI9QskOxz5HT4NDRq5eJEdRJHbssOkLrLWWEcpuwNsor4OE1YOjeagRAee061RQIDAQAB'\n"
   ]
  },
  {
   "cell_type": "code",
   "execution_count": 55,
   "metadata": {},
   "outputs": [],
   "source": [
    "from easycodefpy import Codef, ServiceType, encrypt_rsa\n",
    "\n",
    "# 코드에프 인스턴스 생성\n",
    "codef = Codef()\n",
    "codef.public_key = public_k\n",
    "\n",
    "pwd = encrypt_rsa(\"0421\", codef.public_key)\n"
   ]
  },
  {
   "cell_type": "code",
   "execution_count": 68,
   "metadata": {},
   "outputs": [],
   "source": [
    "\n",
    "param = {\n",
    "    \"organization\": \"0002\",\n",
    "    \"phoneNo\": \"01055504934\",\n",
    "    \"password\": pwd,\n",
    "    \"inquiryType\": \"1\",\n",
    "    \"uniqueNo\": None,\n",
    "    \"realtyType\": None,\n",
    "    \"addr_sido\": \"서울특별시\",\n",
    "    \"address\": \"지봉로 85-14\",\n",
    "    \"recordStatus\": \"0\",\n",
    "\n",
    "    \"addr_dong\": None,\n",
    "    \"addr_lotNumber\": None,\n",
    "    \"inputSelect\": None,\n",
    "    \"buildingName\": \"\",\n",
    "\n",
    "    \"dong\": \"\",\n",
    "    \"ho\": \"201\",\n",
    "\n",
    "    \"addr_sigungu\": \"종로구\",\n",
    "    \"addr_roadName\": \"지봉로\",\n",
    "    \"addr_buildingNumber\": \"85-14\",\n",
    "\n",
    "    \"jointMortgageJeonseYN\": \"0\",\n",
    "    \"tradingYN\": \"1\",\n",
    "    \"listNumber\": None,\n",
    "\n",
    "    #결제수단 등록\n",
    "    \"electronicClosedYN\": None,\n",
    "    \"ePrepayNo\": \"V7411736****\",\n",
    "    \"ePrepayPass\": \"\",\n",
    "\n",
    "    \"issueType\": \"2\",\n",
    "    \"startPageNo\": None,\n",
    "    \"pageCount\": None,\n",
    "    \"originData\": None,\n",
    "    \"originDataYN\": None,\n",
    "    \"warningSkipYN\": None,\n",
    "    \"registerSummaryYN\": \"1\",\n",
    "    \"applicationType\": None,\n",
    "    \"selectAddress\": \"\",\n",
    "    \"isIdentityViewYn\": \"\",\n",
    "    \"identityList\": [\n",
    "        {\n",
    "            \"reqIdentity\": \"\"\n",
    "        }\n",
    "    ]\n",
    "}"
   ]
  },
  {
   "cell_type": "code",
   "execution_count": 69,
   "metadata": {},
   "outputs": [],
   "source": [
    "# 데모 클라이언트 정보 설정\n",
    "# - 데모 서비스 가입 후 코드에프 홈페이지에 확인 가능(https://codef.io/#/account/keys)\n",
    "# - 데모 서비스로 상품 조회 요청시 필수 입력 항목\n",
    "codef.set_demo_client_info(demo_client_id, demo_client_secret)\n",
    "\n",
    "# 정식 클라이언트 정보 설정\n",
    "# - 정식 서비스 가입 후 코드에프 홈페이지에 확인 가능(https://codef.io/#/account/keys)\n",
    "# - 정식 서비스로 상품 조회 요청시 필수 입력 항목\n",
    "# codef.set_client_info(client_id, client_secret)\n",
    "\n",
    "# 코드에프 정보 조회 요청\n",
    "# - 서비스타입(0:정식, 1:데모, 2:샌드박스)\n",
    "# 개인 보유계좌 조회 (https://developer.codef.io/products/bank/common/p/account)\n",
    "product_url = \"/v1/kr/public/ck/real-estate-register/status\"\n",
    "res = codef.request_product(product_url, ServiceType.DEMO, param)"
   ]
  },
  {
   "cell_type": "code",
   "execution_count": 70,
   "metadata": {},
   "outputs": [
    {
     "data": {
      "text/plain": [
       "'{\"result\": {\"code\": \"CF-00000\", \"extraMessage\": \"\", \"message\": \"성공\", \"transactionId\": \"667834a6ec82da8764427cb4\"}, \"data\": {\"resRegisterEntriesList\": [], \"resSearchList\": [], \"resAddrList\": [{\"commUniqueNo\": \"11032019000694\", \"commAddrLotNumber\": \"서울특별시 종로구 지봉로 85-14 메종드뤼미에르 주건축물제1동 [창신동 23-77]\", \"resType\": \"건물\", \"resUserNm\": \"\", \"resState\": \"현행\"}], \"resImageList\": [], \"resOriGinalData\": \"\", \"resIssueYN\": \"2\", \"commIssueCode\": \"\", \"resTotalPageCount\": \"1\", \"commStartPageNo\": \"1\", \"resEndPageNo\": \"1\"}}'"
      ]
     },
     "execution_count": 70,
     "metadata": {},
     "output_type": "execute_result"
    }
   ],
   "source": [
    "res"
   ]
  },
  {
   "cell_type": "code",
   "execution_count": null,
   "metadata": {},
   "outputs": [],
   "source": []
  }
 ],
 "metadata": {
  "kernelspec": {
   "display_name": "Python 3",
   "language": "python",
   "name": "python3"
  },
  "language_info": {
   "codemirror_mode": {
    "name": "ipython",
    "version": 3
   },
   "file_extension": ".py",
   "mimetype": "text/x-python",
   "name": "python",
   "nbconvert_exporter": "python",
   "pygments_lexer": "ipython3",
   "version": "3.11.2"
  }
 },
 "nbformat": 4,
 "nbformat_minor": 2
}
